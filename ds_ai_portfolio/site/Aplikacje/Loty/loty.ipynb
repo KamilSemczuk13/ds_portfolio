{
 "cells": [
  {
   "cell_type": "markdown",
   "id": "a6ec6820",
   "metadata": {},
   "source": [
    "'''python\n",
    "'''"
   ]
  },
  {
   "cell_type": "markdown",
   "id": "2a25c7d6",
   "metadata": {},
   "source": []
  },
  {
   "cell_type": "markdown",
   "id": "d5e3eab2",
   "metadata": {},
   "source": []
  }
 ],
 "metadata": {
  "language_info": {
   "name": "python"
  }
 },
 "nbformat": 4,
 "nbformat_minor": 5
}
